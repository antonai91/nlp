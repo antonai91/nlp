{
 "cells": [
  {
   "cell_type": "code",
   "execution_count": 1,
   "metadata": {
    "colab": {
     "base_uri": "https://localhost:8080/"
    },
    "executionInfo": {
     "elapsed": 1262,
     "status": "ok",
     "timestamp": 1616951103301,
     "user": {
      "displayName": "Antonio Lisi",
      "photoUrl": "",
      "userId": "11235078078976363784"
     },
     "user_tz": -120
    },
    "id": "pTUBOLfW0YxO",
    "outputId": "bf0f8721-18ac-46b1-a275-19c346f070da"
   },
   "outputs": [
    {
     "name": "stdout",
     "output_type": "stream",
     "text": [
      "Drive already mounted at /content/gdrive; to attempt to forcibly remount, call drive.mount(\"/content/gdrive\", force_remount=True).\n"
     ]
    }
   ],
   "source": [
    "from google.colab import drive\n",
    "drive.mount('/content/gdrive')"
   ]
  },
  {
   "cell_type": "code",
   "execution_count": 2,
   "metadata": {
    "colab": {
     "base_uri": "https://localhost:8080/"
    },
    "executionInfo": {
     "elapsed": 1501,
     "status": "ok",
     "timestamp": 1616951103559,
     "user": {
      "displayName": "Antonio Lisi",
      "photoUrl": "",
      "userId": "11235078078976363784"
     },
     "user_tz": -120
    },
    "id": "0bs67a9A0ZeO",
    "outputId": "fa8dffda-89a9-4410-c1c5-d605a8804c85"
   },
   "outputs": [
    {
     "name": "stdout",
     "output_type": "stream",
     "text": [
      "/content/gdrive/MyDrive/colab_projects/nlp/imdb/nbs\n"
     ]
    }
   ],
   "source": [
    "%cd gdrive/MyDrive/colab_projects/nlp/imdb/nbs/"
   ]
  },
  {
   "cell_type": "code",
   "execution_count": 3,
   "metadata": {
    "colab": {
     "base_uri": "https://localhost:8080/"
    },
    "executionInfo": {
     "elapsed": 3735,
     "status": "ok",
     "timestamp": 1616951105808,
     "user": {
      "displayName": "Antonio Lisi",
      "photoUrl": "",
      "userId": "11235078078976363784"
     },
     "user_tz": -120
    },
    "id": "jbgLmMW10SNC",
    "outputId": "49dee115-38e0-4d25-aa5f-1aabc949a13d"
   },
   "outputs": [
    {
     "name": "stdout",
     "output_type": "stream",
     "text": [
      "Requirement already satisfied: transformers in /usr/local/lib/python3.7/dist-packages (4.4.2)\n",
      "Requirement already satisfied: numpy>=1.17 in /usr/local/lib/python3.7/dist-packages (from transformers) (1.19.5)\n",
      "Requirement already satisfied: tqdm>=4.27 in /usr/local/lib/python3.7/dist-packages (from transformers) (4.41.1)\n",
      "Requirement already satisfied: regex!=2019.12.17 in /usr/local/lib/python3.7/dist-packages (from transformers) (2019.12.20)\n",
      "Requirement already satisfied: filelock in /usr/local/lib/python3.7/dist-packages (from transformers) (3.0.12)\n",
      "Requirement already satisfied: tokenizers<0.11,>=0.10.1 in /usr/local/lib/python3.7/dist-packages (from transformers) (0.10.1)\n",
      "Requirement already satisfied: sacremoses in /usr/local/lib/python3.7/dist-packages (from transformers) (0.0.43)\n",
      "Requirement already satisfied: packaging in /usr/local/lib/python3.7/dist-packages (from transformers) (20.9)\n",
      "Requirement already satisfied: requests in /usr/local/lib/python3.7/dist-packages (from transformers) (2.23.0)\n",
      "Requirement already satisfied: importlib-metadata; python_version < \"3.8\" in /usr/local/lib/python3.7/dist-packages (from transformers) (3.7.2)\n",
      "Requirement already satisfied: joblib in /usr/local/lib/python3.7/dist-packages (from sacremoses->transformers) (1.0.1)\n",
      "Requirement already satisfied: six in /usr/local/lib/python3.7/dist-packages (from sacremoses->transformers) (1.15.0)\n",
      "Requirement already satisfied: click in /usr/local/lib/python3.7/dist-packages (from sacremoses->transformers) (7.1.2)\n",
      "Requirement already satisfied: pyparsing>=2.0.2 in /usr/local/lib/python3.7/dist-packages (from packaging->transformers) (2.4.7)\n",
      "Requirement already satisfied: idna<3,>=2.5 in /usr/local/lib/python3.7/dist-packages (from requests->transformers) (2.10)\n",
      "Requirement already satisfied: chardet<4,>=3.0.2 in /usr/local/lib/python3.7/dist-packages (from requests->transformers) (3.0.4)\n",
      "Requirement already satisfied: certifi>=2017.4.17 in /usr/local/lib/python3.7/dist-packages (from requests->transformers) (2020.12.5)\n",
      "Requirement already satisfied: urllib3!=1.25.0,!=1.25.1,<1.26,>=1.21.1 in /usr/local/lib/python3.7/dist-packages (from requests->transformers) (1.24.3)\n",
      "Requirement already satisfied: zipp>=0.5 in /usr/local/lib/python3.7/dist-packages (from importlib-metadata; python_version < \"3.8\"->transformers) (3.4.1)\n",
      "Requirement already satisfied: typing-extensions>=3.6.4; python_version < \"3.8\" in /usr/local/lib/python3.7/dist-packages (from importlib-metadata; python_version < \"3.8\"->transformers) (3.7.4.3)\n"
     ]
    }
   ],
   "source": [
    "!pip install transformers"
   ]
  },
  {
   "cell_type": "code",
   "execution_count": 4,
   "metadata": {
    "colab": {
     "base_uri": "https://localhost:8080/"
    },
    "executionInfo": {
     "elapsed": 5785,
     "status": "ok",
     "timestamp": 1616951107871,
     "user": {
      "displayName": "Antonio Lisi",
      "photoUrl": "",
      "userId": "11235078078976363784"
     },
     "user_tz": -120
    },
    "id": "9q7Mc26qpna5",
    "outputId": "e1237f52-7d27-444e-a3cd-c0d2008e3cce"
   },
   "outputs": [
    {
     "name": "stdout",
     "output_type": "stream",
     "text": [
      "Requirement already satisfied: sentencepiece in /usr/local/lib/python3.7/dist-packages (0.1.95)\n"
     ]
    }
   ],
   "source": [
    "!pip install sentencepiece"
   ]
  },
  {
   "cell_type": "code",
   "execution_count": 5,
   "metadata": {
    "executionInfo": {
     "elapsed": 7306,
     "status": "ok",
     "timestamp": 1616951109404,
     "user": {
      "displayName": "Antonio Lisi",
      "photoUrl": "",
      "userId": "11235078078976363784"
     },
     "user_tz": -120
    },
    "id": "eZflMy3Q0adw"
   },
   "outputs": [],
   "source": [
    "import os\n",
    "import pandas as pd\n",
    "import numpy as np\n",
    "from tqdm import tqdm\n",
    "from keras.preprocessing.sequence import pad_sequences\n",
    "from keras.utils import to_categorical\n",
    "import tensorflow as tf\n",
    "from transformers import XLNetTokenizer, XLNetConfig, TFXLNetModel\n",
    "\n",
    "from tensorflow.keras.layers import Input, Dropout, Dense\n",
    "from tensorflow.keras.models import Model\n",
    "from tensorflow.keras.optimizers import Adam\n",
    "from tensorflow.keras.losses import CategoricalCrossentropy\n",
    "from tensorflow.keras.metrics import CategoricalAccuracy\n",
    "from tensorflow.keras.utils import to_categorical"
   ]
  },
  {
   "cell_type": "code",
   "execution_count": 6,
   "metadata": {
    "executionInfo": {
     "elapsed": 7296,
     "status": "ok",
     "timestamp": 1616951109405,
     "user": {
      "displayName": "Antonio Lisi",
      "photoUrl": "",
      "userId": "11235078078976363784"
     },
     "user_tz": -120
    },
    "id": "TRwCGK1KGuMX"
   },
   "outputs": [],
   "source": [
    "pd.options.display.max_columns=999\n",
    "pd.options.display.max_rows=999"
   ]
  },
  {
   "cell_type": "code",
   "execution_count": 7,
   "metadata": {
    "executionInfo": {
     "elapsed": 7740,
     "status": "ok",
     "timestamp": 1616951109858,
     "user": {
      "displayName": "Antonio Lisi",
      "photoUrl": "",
      "userId": "11235078078976363784"
     },
     "user_tz": -120
    },
    "id": "ldEnpePBajiX"
   },
   "outputs": [],
   "source": [
    "df = pd.read_csv(\"../data/imdb.csv\")\n",
    "df_train = df[:25000]\n",
    "df_test = df[25000:]\n",
    "\n",
    "labels_index = {'positive':1, 'negative':0}"
   ]
  },
  {
   "cell_type": "code",
   "execution_count": 8,
   "metadata": {
    "colab": {
     "base_uri": "https://localhost:8080/"
    },
    "executionInfo": {
     "elapsed": 11509,
     "status": "ok",
     "timestamp": 1616951113636,
     "user": {
      "displayName": "Antonio Lisi",
      "photoUrl": "",
      "userId": "11235078078976363784"
     },
     "user_tz": -120
    },
    "id": "SJM4v_HEahxO",
    "outputId": "6dfda430-c037-4284-c230-9ba380b7fcda"
   },
   "outputs": [
    {
     "name": "stderr",
     "output_type": "stream",
     "text": [
      "Some layers from the model checkpoint at xlnet-base-cased were not used when initializing TFXLNetModel: ['lm_loss']\n",
      "- This IS expected if you are initializing TFXLNetModel from the checkpoint of a model trained on another task or with another architecture (e.g. initializing a BertForSequenceClassification model from a BertForPreTraining model).\n",
      "- This IS NOT expected if you are initializing TFXLNetModel from the checkpoint of a model that you expect to be exactly identical (initializing a BertForSequenceClassification model from a BertForSequenceClassification model).\n",
      "All the layers of TFXLNetModel were initialized from the model checkpoint at xlnet-base-cased.\n",
      "If your task is similar to the task the model of the checkpoint was trained on, you can already use TFXLNetModel for predictions without further training.\n"
     ]
    }
   ],
   "source": [
    "model_name = 'xlnet-base-cased'\n",
    "max_length = 500\n",
    "config = XLNetConfig.from_pretrained(model_name)\n",
    "config.output_hidden_states = False\n",
    "tokenizer = XLNetTokenizer.from_pretrained(pretrained_model_name_or_path=model_name, config=config)\n",
    "transformer_model = TFXLNetModel.from_pretrained(model_name, config=config)"
   ]
  },
  {
   "cell_type": "code",
   "execution_count": 9,
   "metadata": {
    "colab": {
     "base_uri": "https://localhost:8080/"
    },
    "executionInfo": {
     "elapsed": 11500,
     "status": "ok",
     "timestamp": 1616951113637,
     "user": {
      "displayName": "Antonio Lisi",
      "photoUrl": "",
      "userId": "11235078078976363784"
     },
     "user_tz": -120
    },
    "id": "gaOKT-ghbP0j",
    "outputId": "e04d3c99-4722-44a0-a5b3-9bfa702d7088"
   },
   "outputs": [
    {
     "name": "stdout",
     "output_type": "stream",
     "text": [
      "Model: \"tfxl_net_model\"\n",
      "_________________________________________________________________\n",
      "Layer (type)                 Output Shape              Param #   \n",
      "=================================================================\n",
      "transformer (TFXLNetMainLaye multiple                  116718336 \n",
      "=================================================================\n",
      "Total params: 116,718,336\n",
      "Trainable params: 116,718,336\n",
      "Non-trainable params: 0\n",
      "_________________________________________________________________\n"
     ]
    }
   ],
   "source": [
    "transformer_model.summary()"
   ]
  },
  {
   "cell_type": "code",
   "execution_count": 10,
   "metadata": {
    "colab": {
     "base_uri": "https://localhost:8080/"
    },
    "executionInfo": {
     "elapsed": 11490,
     "status": "ok",
     "timestamp": 1616951113638,
     "user": {
      "displayName": "Antonio Lisi",
      "photoUrl": "",
      "userId": "11235078078976363784"
     },
     "user_tz": -120
    },
    "id": "bpK35mmxpquL",
    "outputId": "3d94b525-5ded-4d5e-cc10-84602410b53d"
   },
   "outputs": [
    {
     "data": {
      "text/plain": [
       "1"
      ]
     },
     "execution_count": 10,
     "metadata": {
      "tags": []
     },
     "output_type": "execute_result"
    }
   ],
   "source": [
    "len(transformer_model.layers)"
   ]
  },
  {
   "cell_type": "code",
   "execution_count": 11,
   "metadata": {
    "executionInfo": {
     "elapsed": 11481,
     "status": "ok",
     "timestamp": 1616951113639,
     "user": {
      "displayName": "Antonio Lisi",
      "photoUrl": "",
      "userId": "11235078078976363784"
     },
     "user_tz": -120
    },
    "id": "Q3P1KNfAbTGO"
   },
   "outputs": [],
   "source": [
    "xlnet = transformer_model.layers[0]"
   ]
  },
  {
   "cell_type": "code",
   "execution_count": 12,
   "metadata": {
    "executionInfo": {
     "elapsed": 11473,
     "status": "ok",
     "timestamp": 1616951113640,
     "user": {
      "displayName": "Antonio Lisi",
      "photoUrl": "",
      "userId": "11235078078976363784"
     },
     "user_tz": -120
    },
    "id": "6ovq8G5bbeqd"
   },
   "outputs": [],
   "source": [
    "from keras.layers import Dense, Input, GlobalMaxPooling1D, Dropout\n",
    "from keras.layers import Conv1D, MaxPooling1D, Embedding, LSTM, Flatten\n",
    "from keras.models import Model"
   ]
  },
  {
   "cell_type": "code",
   "execution_count": 13,
   "metadata": {
    "colab": {
     "base_uri": "https://localhost:8080/"
    },
    "executionInfo": {
     "elapsed": 16853,
     "status": "ok",
     "timestamp": 1616951119028,
     "user": {
      "displayName": "Antonio Lisi",
      "photoUrl": "",
      "userId": "11235078078976363784"
     },
     "user_tz": -120
    },
    "id": "nF48Ou8nbUJu",
    "outputId": "b66ec9dd-337d-4442-cd5d-042cbba2e729"
   },
   "outputs": [
    {
     "name": "stdout",
     "output_type": "stream",
     "text": [
      "Model: \"model\"\n",
      "_________________________________________________________________\n",
      "Layer (type)                 Output Shape              Param #   \n",
      "=================================================================\n",
      "input_ids (InputLayer)       [(None, 500)]             0         \n",
      "_________________________________________________________________\n",
      "transformer (TFXLNetMainLaye TFXLNetModelOutput(last_h 116718336 \n",
      "_________________________________________________________________\n",
      "flatten (Flatten)            (None, 384000)            0         \n",
      "_________________________________________________________________\n",
      "dense (Dense)                (None, 2)                 768002    \n",
      "=================================================================\n",
      "Total params: 117,486,338\n",
      "Trainable params: 117,486,338\n",
      "Non-trainable params: 0\n",
      "_________________________________________________________________\n"
     ]
    }
   ],
   "source": [
    "input_ids = Input(shape=(max_length,), name='input_ids', dtype='int32')\n",
    "inputs = {'input_ids': input_ids}\n",
    "xlnet_model = xlnet(inputs)[0]\n",
    "dense_inter = Flatten()(xlnet_model)\n",
    "logits = Dense(2)(dense_inter)\n",
    "model = Model(inputs=inputs, outputs=logits)\n",
    "model.summary()"
   ]
  },
  {
   "cell_type": "code",
   "execution_count": 14,
   "metadata": {
    "executionInfo": {
     "elapsed": 16843,
     "status": "ok",
     "timestamp": 1616951119029,
     "user": {
      "displayName": "Antonio Lisi",
      "photoUrl": "",
      "userId": "11235078078976363784"
     },
     "user_tz": -120
    },
    "id": "2N_JSo6Fb_wf"
   },
   "outputs": [],
   "source": [
    "optimizer = Adam(learning_rate=1e-05, epsilon=1e-08, decay=0.01, clipnorm=1.0)\n",
    "loss = CategoricalCrossentropy(from_logits=True)\n",
    "metric = 'accuracy'\n",
    "model.compile(optimizer=optimizer, loss=loss, metrics=metric)"
   ]
  },
  {
   "cell_type": "code",
   "execution_count": 15,
   "metadata": {
    "executionInfo": {
     "elapsed": 16836,
     "status": "ok",
     "timestamp": 1616951119030,
     "user": {
      "displayName": "Antonio Lisi",
      "photoUrl": "",
      "userId": "11235078078976363784"
     },
     "user_tz": -120
    },
    "id": "fPxKmxrpahz1"
   },
   "outputs": [],
   "source": [
    "y_train = to_categorical(df_train['sentiment'].map(labels_index))"
   ]
  },
  {
   "cell_type": "code",
   "execution_count": 16,
   "metadata": {
    "executionInfo": {
     "elapsed": 16827,
     "status": "ok",
     "timestamp": 1616951119030,
     "user": {
      "displayName": "Antonio Lisi",
      "photoUrl": "",
      "userId": "11235078078976363784"
     },
     "user_tz": -120
    },
    "id": "pnDdKW4Sah27"
   },
   "outputs": [],
   "source": [
    "y_test = to_categorical(df_test['sentiment'].map(labels_index))"
   ]
  },
  {
   "cell_type": "code",
   "execution_count": 17,
   "metadata": {
    "executionInfo": {
     "elapsed": 16819,
     "status": "ok",
     "timestamp": 1616951119031,
     "user": {
      "displayName": "Antonio Lisi",
      "photoUrl": "",
      "userId": "11235078078976363784"
     },
     "user_tz": -120
    },
    "id": "xDus7R8IxSI9"
   },
   "outputs": [],
   "source": [
    "tokenizer.pad_token='[PAD]'"
   ]
  },
  {
   "cell_type": "code",
   "execution_count": 18,
   "metadata": {
    "executionInfo": {
     "elapsed": 43598,
     "status": "ok",
     "timestamp": 1616951145818,
     "user": {
      "displayName": "Antonio Lisi",
      "photoUrl": "",
      "userId": "11235078078976363784"
     },
     "user_tz": -120
    },
    "id": "mhSqtO2eah5b"
   },
   "outputs": [],
   "source": [
    "X_train = tokenizer(text=df_train['review'].to_list(),\n",
    "                    add_special_tokens=True,\n",
    "                    max_length=max_length,\n",
    "                    truncation=True,\n",
    "                    padding=True, \n",
    "                    return_tensors='tf',\n",
    "                    return_token_type_ids = False,\n",
    "                    return_attention_mask = False,\n",
    "                    verbose = True)"
   ]
  },
  {
   "cell_type": "code",
   "execution_count": 19,
   "metadata": {
    "executionInfo": {
     "elapsed": 70233,
     "status": "ok",
     "timestamp": 1616951172462,
     "user": {
      "displayName": "Antonio Lisi",
      "photoUrl": "",
      "userId": "11235078078976363784"
     },
     "user_tz": -120
    },
    "id": "ePdCMtxfah8R"
   },
   "outputs": [],
   "source": [
    "X_test = tokenizer(text=df_test['review'].to_list(),\n",
    "                    add_special_tokens=True,\n",
    "                    max_length=max_length,\n",
    "                    truncation=True,\n",
    "                    padding=True, \n",
    "                    return_tensors='tf',\n",
    "                    return_token_type_ids = False,\n",
    "                    return_attention_mask = False,\n",
    "                    verbose = True)"
   ]
  },
  {
   "cell_type": "code",
   "execution_count": 20,
   "metadata": {
    "colab": {
     "base_uri": "https://localhost:8080/"
    },
    "executionInfo": {
     "elapsed": 70225,
     "status": "ok",
     "timestamp": 1616951172463,
     "user": {
      "displayName": "Antonio Lisi",
      "photoUrl": "",
      "userId": "11235078078976363784"
     },
     "user_tz": -120
    },
    "id": "zO9mdtZOdCYr",
    "outputId": "13dff467-a4c8-4c43-8fc4-838d89dc24e7"
   },
   "outputs": [
    {
     "data": {
      "text/plain": [
       "{'input_ids': <tf.Tensor: shape=(25000, 500), dtype=int32, numpy=\n",
       "array([[   0,    0,    0, ...,    9,    4,    3],\n",
       "       [   0,    0,    0, ...,    9,    4,    3],\n",
       "       [   0,    0,    0, ...,    9,    4,    3],\n",
       "       ...,\n",
       "       [5039, 1444, 2844, ...,   33,    4,    3],\n",
       "       [   0,    0,    0, ...,    9,    4,    3],\n",
       "       [   0,    0,    0, ...,    9,    4,    3]], dtype=int32)>}"
      ]
     },
     "execution_count": 20,
     "metadata": {
      "tags": []
     },
     "output_type": "execute_result"
    }
   ],
   "source": [
    "X_train"
   ]
  },
  {
   "cell_type": "code",
   "execution_count": 21,
   "metadata": {
    "colab": {
     "base_uri": "https://localhost:8080/"
    },
    "executionInfo": {
     "elapsed": 70213,
     "status": "ok",
     "timestamp": 1616951172465,
     "user": {
      "displayName": "Antonio Lisi",
      "photoUrl": "",
      "userId": "11235078078976363784"
     },
     "user_tz": -120
    },
    "id": "sEe6vIS_dMQu",
    "outputId": "87c08bec-848c-4b4f-f447-4a4fc50a276b"
   },
   "outputs": [
    {
     "data": {
      "text/plain": [
       "array([[0., 1.],\n",
       "       [0., 1.],\n",
       "       [0., 1.],\n",
       "       ...,\n",
       "       [0., 1.],\n",
       "       [0., 1.],\n",
       "       [1., 0.]], dtype=float32)"
      ]
     },
     "execution_count": 21,
     "metadata": {
      "tags": []
     },
     "output_type": "execute_result"
    }
   ],
   "source": [
    "y_train"
   ]
  },
  {
   "cell_type": "code",
   "execution_count": 22,
   "metadata": {
    "colab": {
     "base_uri": "https://localhost:8080/"
    },
    "executionInfo": {
     "elapsed": 7106688,
     "status": "ok",
     "timestamp": 1616958208962,
     "user": {
      "displayName": "Antonio Lisi",
      "photoUrl": "",
      "userId": "11235078078976363784"
     },
     "user_tz": -120
    },
    "id": "5PhrjfVKah_E",
    "outputId": "86894c50-c58d-4b89-8197-580b1b1a64c4"
   },
   "outputs": [
    {
     "name": "stdout",
     "output_type": "stream",
     "text": [
      "Epoch 1/2\n",
      "WARNING:tensorflow:Gradients do not exist for variables ['tfxl_net_model/transformer/mask_emb:0', 'tfxl_net_model/transformer/layer_._0/rel_attn/r_s_bias:0', 'tfxl_net_model/transformer/layer_._0/rel_attn/seg_embed:0', 'tfxl_net_model/transformer/layer_._1/rel_attn/r_s_bias:0', 'tfxl_net_model/transformer/layer_._1/rel_attn/seg_embed:0', 'tfxl_net_model/transformer/layer_._2/rel_attn/r_s_bias:0', 'tfxl_net_model/transformer/layer_._2/rel_attn/seg_embed:0', 'tfxl_net_model/transformer/layer_._3/rel_attn/r_s_bias:0', 'tfxl_net_model/transformer/layer_._3/rel_attn/seg_embed:0', 'tfxl_net_model/transformer/layer_._4/rel_attn/r_s_bias:0', 'tfxl_net_model/transformer/layer_._4/rel_attn/seg_embed:0', 'tfxl_net_model/transformer/layer_._5/rel_attn/r_s_bias:0', 'tfxl_net_model/transformer/layer_._5/rel_attn/seg_embed:0', 'tfxl_net_model/transformer/layer_._6/rel_attn/r_s_bias:0', 'tfxl_net_model/transformer/layer_._6/rel_attn/seg_embed:0', 'tfxl_net_model/transformer/layer_._7/rel_attn/r_s_bias:0', 'tfxl_net_model/transformer/layer_._7/rel_attn/seg_embed:0', 'tfxl_net_model/transformer/layer_._8/rel_attn/r_s_bias:0', 'tfxl_net_model/transformer/layer_._8/rel_attn/seg_embed:0', 'tfxl_net_model/transformer/layer_._9/rel_attn/r_s_bias:0', 'tfxl_net_model/transformer/layer_._9/rel_attn/seg_embed:0', 'tfxl_net_model/transformer/layer_._10/rel_attn/r_s_bias:0', 'tfxl_net_model/transformer/layer_._10/rel_attn/seg_embed:0', 'tfxl_net_model/transformer/layer_._11/rel_attn/r_s_bias:0', 'tfxl_net_model/transformer/layer_._11/rel_attn/seg_embed:0'] when minimizing the loss.\n",
      "WARNING:tensorflow:Gradients do not exist for variables ['tfxl_net_model/transformer/mask_emb:0', 'tfxl_net_model/transformer/layer_._0/rel_attn/r_s_bias:0', 'tfxl_net_model/transformer/layer_._0/rel_attn/seg_embed:0', 'tfxl_net_model/transformer/layer_._1/rel_attn/r_s_bias:0', 'tfxl_net_model/transformer/layer_._1/rel_attn/seg_embed:0', 'tfxl_net_model/transformer/layer_._2/rel_attn/r_s_bias:0', 'tfxl_net_model/transformer/layer_._2/rel_attn/seg_embed:0', 'tfxl_net_model/transformer/layer_._3/rel_attn/r_s_bias:0', 'tfxl_net_model/transformer/layer_._3/rel_attn/seg_embed:0', 'tfxl_net_model/transformer/layer_._4/rel_attn/r_s_bias:0', 'tfxl_net_model/transformer/layer_._4/rel_attn/seg_embed:0', 'tfxl_net_model/transformer/layer_._5/rel_attn/r_s_bias:0', 'tfxl_net_model/transformer/layer_._5/rel_attn/seg_embed:0', 'tfxl_net_model/transformer/layer_._6/rel_attn/r_s_bias:0', 'tfxl_net_model/transformer/layer_._6/rel_attn/seg_embed:0', 'tfxl_net_model/transformer/layer_._7/rel_attn/r_s_bias:0', 'tfxl_net_model/transformer/layer_._7/rel_attn/seg_embed:0', 'tfxl_net_model/transformer/layer_._8/rel_attn/r_s_bias:0', 'tfxl_net_model/transformer/layer_._8/rel_attn/seg_embed:0', 'tfxl_net_model/transformer/layer_._9/rel_attn/r_s_bias:0', 'tfxl_net_model/transformer/layer_._9/rel_attn/seg_embed:0', 'tfxl_net_model/transformer/layer_._10/rel_attn/r_s_bias:0', 'tfxl_net_model/transformer/layer_._10/rel_attn/seg_embed:0', 'tfxl_net_model/transformer/layer_._11/rel_attn/r_s_bias:0', 'tfxl_net_model/transformer/layer_._11/rel_attn/seg_embed:0'] when minimizing the loss.\n",
      "6250/6250 [==============================] - 3524s 562ms/step - loss: 0.4341 - accuracy: 0.8810\n",
      "Epoch 2/2\n",
      "6250/6250 [==============================] - 3512s 562ms/step - loss: 0.2526 - accuracy: 0.9397\n"
     ]
    },
    {
     "data": {
      "text/plain": [
       "<tensorflow.python.keras.callbacks.History at 0x7f470808af90>"
      ]
     },
     "execution_count": 22,
     "metadata": {
      "tags": []
     },
     "output_type": "execute_result"
    }
   ],
   "source": [
    "model.fit(X_train[\"input_ids\"], y_train, batch_size=4, epochs=2)"
   ]
  },
  {
   "cell_type": "code",
   "execution_count": 24,
   "metadata": {
    "colab": {
     "base_uri": "https://localhost:8080/"
    },
    "executionInfo": {
     "elapsed": 8048108,
     "status": "ok",
     "timestamp": 1616959150404,
     "user": {
      "displayName": "Antonio Lisi",
      "photoUrl": "",
      "userId": "11235078078976363784"
     },
     "user_tz": -120
    },
    "id": "eu-fNzC6kahp",
    "outputId": "28f5fc4e-cbe3-4419-d39f-71a692f54d14"
   },
   "outputs": [
    {
     "name": "stdout",
     "output_type": "stream",
     "text": [
      "782/782 [==============================] - 941s 1s/step - loss: 0.2861 - accuracy: 0.9370\n",
      "Test accuracy: 0.9370399713516235\n"
     ]
    }
   ],
   "source": [
    "score, acc = model.evaluate(X_test[\"input_ids\"], y_test)\n",
    "print('Test accuracy:', acc)"
   ]
  }
 ],
 "metadata": {
  "accelerator": "GPU",
  "colab": {
   "authorship_tag": "ABX9TyPJ1e2aOs4QIP/Fo3JibukZ",
   "collapsed_sections": [],
   "machine_shape": "hm",
   "name": "05_xlnet_classification.ipynb",
   "provenance": []
  },
  "kernelspec": {
   "display_name": "Python 3",
   "language": "python",
   "name": "python3"
  },
  "language_info": {
   "codemirror_mode": {
    "name": "ipython",
    "version": 3
   },
   "file_extension": ".py",
   "mimetype": "text/x-python",
   "name": "python",
   "nbconvert_exporter": "python",
   "pygments_lexer": "ipython3",
   "version": "3.8.5"
  }
 },
 "nbformat": 4,
 "nbformat_minor": 4
}
